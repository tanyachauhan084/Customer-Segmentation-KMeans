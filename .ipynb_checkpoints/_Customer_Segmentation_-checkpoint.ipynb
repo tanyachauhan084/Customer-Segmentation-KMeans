{
 "cells": [
  {
   "cell_type": "code",
   "execution_count": 2,
   "id": "6b7450bd-c293-4b1e-812a-594fed8c2386",
   "metadata": {},
   "outputs": [],
   "source": [
    "import numpy as np\n",
    "import pandas as pd"
   ]
  },
  {
   "cell_type": "code",
   "execution_count": null,
   "id": "8133cc21-761c-4ea2-8766-b81ef5fc9dd7",
   "metadata": {},
   "outputs": [],
   "source": []
  }
 ],
 "metadata": {
  "kernelspec": {
   "display_name": "Python 3 (ipykernel)",
   "language": "python",
   "name": "python3"
  },
  "language_info": {
   "codemirror_mode": {
    "name": "ipython",
    "version": 3
   },
   "file_extension": ".py",
   "mimetype": "text/x-python",
   "name": "python",
   "nbconvert_exporter": "python",
   "pygments_lexer": "ipython3",
   "version": "3.13.5"
  }
 },
 "nbformat": 4,
 "nbformat_minor": 5
}
